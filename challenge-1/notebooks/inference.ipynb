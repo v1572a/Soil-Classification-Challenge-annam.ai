"""
Author: Annam.ai IIT Ropar  
Team Name: SoilClassifiers  
Team Members: Member-1, Member-2, Member-3, Member-4, Member-5  
Leaderboard Rank: <Your Rank>
"""

# -------------------------------
# Inference Script for Submission
# -------------------------------

# 1. Imports
import os
import pandas as pd
import numpy as np
from PIL import Image
from sklearn.preprocessing import LabelEncoder

import torch
import torch.nn as nn
from torch.utils.data import Dataset, DataLoader
from torchvision import transforms
from torchvision.models import efficientnet_b3, EfficientNet_B3_Weights
from tqdm import tqdm

# 2. Device Setup
device = torch.device("cuda" if torch.cuda.is_available() else "cpu")

# 3. Load the Trained Model
model = efficientnet_b3(weights=EfficientNet_B3_Weights.IMAGENET1K_V1)
model.classifier[1] = nn.Linear(model.classifier[1].in_features, 4)  # Adjust 4 if different class count
model.load_state_dict(torch.load("model.pth", map_location=device))  # Provide correct path if needed
model.to(device)

# 4. Define Transformations
transform = transforms.Compose([
    transforms.Resize((300, 300)),
    transforms.ToTensor(),
    transforms.Normalize(mean=[0.475, 0.453, 0.406], std=[0.228, 0.224, 0.225])
])

# 5. Load Test Data
test_df = pd.read_csv("data/test_ids.csv")  # Update path if different

class SoilTestDataset(Dataset):
    def __init__(self, img_dir, df, transform=None):
        self.img_dir = img_dir
        self.df = df.reset_index(drop=True)
        self.transform = transform

    def __len__(self):
        return len(self.df)

    def __getitem__(self, idx):
        img_id = self.df.loc[idx, 'image_id']
        img_path = os.path.join(self.img_dir, img_id)
        image = Image.open(img_path).convert('RGB')
        if self.transform:
            image = self.transform(image)
        return image

test_dataset = SoilTestDataset(
    img_dir="data/test",  # Update if different
    df=test_df,
    transform=transform
)

test_loader = DataLoader(test_dataset, batch_size=32, shuffle=False)

# 6. Load Label Encoder
le = LabelEncoder()
le.classes_ = np.load("label_classes.npy", allow_pickle=True)  # Ensure this file was saved during training

# 7. Inference and Create Submission
model.eval()
predictions = []

with torch.no_grad():
    for images in tqdm(test_loader, desc="Predicting"):
        images = images.to(device)
        outputs = model(images)
        _, preds = torch.max(outputs, 1)
        predictions.extend(preds.cpu().numpy())

# Decode Predictions
predicted_labels = le.inverse_transform(predictions)

# 8. Save Submission
submission = pd.DataFrame({
    'image_id': test_df['image_id'],
    'soil_type': predicted_labels
})

submission.to_csv("submission.csv", index=False)
print("✅ Submission file saved as 'submission.csv'")
