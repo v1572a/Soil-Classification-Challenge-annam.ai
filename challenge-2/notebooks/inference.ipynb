{
 "cells": [
  {
   "cell_type": "code",
   "execution_count": null,
   "id": "76fdd617",
   "metadata": {},
   "outputs": [],
   "source": [
    "# Step 4: Predict on test images\n",
    "test_image_paths = [os.path.join(TEST_DIR, img_id) for img_id in test_df['image_id']]\n",
    "pred_labels = []\n",
    "\n",
    "print(\"Classifying test images...\")\n",
    "for path in tqdm(test_image_paths):\n",
    "    feat = extract_features(path)\n",
    "    sim = cosine_similarity(feat.reshape(1, -1), soil_centroid.reshape(1, -1))[0][0]\n",
    "    pred = 1 if sim >= threshold else 0\n",
    "    pred_labels.append(pred)\n",
    "\n",
    "# Save predictions\n",
    "submission = pd.DataFrame({\n",
    "    'image_id': test_df['image_id'],\n",
    "    'soil_type': pred_labels\n",
    "})\n",
    "\n",
    "submission_path = \"/kaggle/working/submission_pu_similarity.csv\"\n",
    "submission.to_csv(submission_path, index=False)\n",
    "print(f\"Submission saved to {submission_path}\")\n"
   ]
  }
 ],
 "metadata": {
  "language_info": {
   "name": "python"
  }
 },
 "nbformat": 4,
 "nbformat_minor": 5
}
